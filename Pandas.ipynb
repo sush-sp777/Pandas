{
 "cells": [
  {
   "cell_type": "markdown",
   "id": "e2ee5995-9283-44fd-a70c-c461d2342873",
   "metadata": {},
   "source": [
    "# Pandas"
   ]
  },
  {
   "cell_type": "code",
   "execution_count": 15,
   "id": "43650e7c-b555-4167-bad0-664f3f9cde6d",
   "metadata": {},
   "outputs": [],
   "source": [
    "import pandas as pd"
   ]
  },
  {
   "cell_type": "code",
   "execution_count": 57,
   "id": "2b2c0287-364b-4e8d-8139-3a14248c9820",
   "metadata": {},
   "outputs": [
    {
     "data": {
      "text/html": [
       "<div>\n",
       "<style scoped>\n",
       "    .dataframe tbody tr th:only-of-type {\n",
       "        vertical-align: middle;\n",
       "    }\n",
       "\n",
       "    .dataframe tbody tr th {\n",
       "        vertical-align: top;\n",
       "    }\n",
       "\n",
       "    .dataframe thead th {\n",
       "        text-align: right;\n",
       "    }\n",
       "</style>\n",
       "<table border=\"1\" class=\"dataframe\">\n",
       "  <thead>\n",
       "    <tr style=\"text-align: right;\">\n",
       "      <th></th>\n",
       "      <th>id</th>\n",
       "      <th>name</th>\n",
       "      <th>description</th>\n",
       "      <th>price</th>\n",
       "      <th>category</th>\n",
       "      <th>image</th>\n",
       "    </tr>\n",
       "  </thead>\n",
       "  <tbody>\n",
       "    <tr>\n",
       "      <th>0</th>\n",
       "      <td>1</td>\n",
       "      <td>Apple iPhone 12</td>\n",
       "      <td>The Apple iPhone 12 features a 6.1-inch Super ...</td>\n",
       "      <td>999.00</td>\n",
       "      <td>Electronics</td>\n",
       "      <td>https://www.apple.com/newsroom/images/product/...</td>\n",
       "    </tr>\n",
       "    <tr>\n",
       "      <th>1</th>\n",
       "      <td>2</td>\n",
       "      <td>Samsung Galaxy S21</td>\n",
       "      <td>The Samsung Galaxy S21 features a 6.2-inch Dyn...</td>\n",
       "      <td>799.00</td>\n",
       "      <td>Electronics</td>\n",
       "      <td>https://images.samsung.com/is/image/samsung/p6...</td>\n",
       "    </tr>\n",
       "    <tr>\n",
       "      <th>2</th>\n",
       "      <td>3</td>\n",
       "      <td>Sony PlayStation 5</td>\n",
       "      <td>The Sony PlayStation 5 features an AMD Zen 2-b...</td>\n",
       "      <td>499.99</td>\n",
       "      <td>Electronics</td>\n",
       "      <td>https://www.sony.com/image/44baa604124b770c824...</td>\n",
       "    </tr>\n",
       "    <tr>\n",
       "      <th>3</th>\n",
       "      <td>4</td>\n",
       "      <td>LG OLED55CXPUA 55-inch 4K OLED TV</td>\n",
       "      <td>The LG OLED55CXPUA 55-inch 4K OLED TV features...</td>\n",
       "      <td>1599.99</td>\n",
       "      <td>Electronics</td>\n",
       "      <td>https://www.lg.com/us/images/tvs/md07501804/ga...</td>\n",
       "    </tr>\n",
       "    <tr>\n",
       "      <th>4</th>\n",
       "      <td>5</td>\n",
       "      <td>Bose QuietComfort 35 II Wireless Headphones</td>\n",
       "      <td>The Bose QuietComfort 35 II Wireless Headphone...</td>\n",
       "      <td>299.00</td>\n",
       "      <td>Electronics</td>\n",
       "      <td>https://assets.bose.com/content/dam/Bose_DAM/W...</td>\n",
       "    </tr>\n",
       "    <tr>\n",
       "      <th>5</th>\n",
       "      <td>6</td>\n",
       "      <td>Fitbit Versa 3 Smartwatch</td>\n",
       "      <td>The Fitbit Versa 3 Smartwatch features a built...</td>\n",
       "      <td>229.95</td>\n",
       "      <td>Electronics</td>\n",
       "      <td>https://www.fitbit.com/global/content/dam/fitb...</td>\n",
       "    </tr>\n",
       "    <tr>\n",
       "      <th>6</th>\n",
       "      <td>7</td>\n",
       "      <td>KitchenAid Stand Mixer</td>\n",
       "      <td>The KitchenAid Stand Mixer features a 5-quart ...</td>\n",
       "      <td>399.99</td>\n",
       "      <td>Home &amp; Kitchen</td>\n",
       "      <td>https://www.kitchenaid.com/content/dam/global/...</td>\n",
       "    </tr>\n",
       "    <tr>\n",
       "      <th>7</th>\n",
       "      <td>8</td>\n",
       "      <td>Dyson V11 Absolute Cordless Vacuum</td>\n",
       "      <td>The Dyson V11 Absolute Cordless Vacuum feature...</td>\n",
       "      <td>699.99</td>\n",
       "      <td>Home Appliances</td>\n",
       "      <td>https://www.dysoncanada.ca/dam/dyson/images/pr...</td>\n",
       "    </tr>\n",
       "    <tr>\n",
       "      <th>8</th>\n",
       "      <td>9</td>\n",
       "      <td>Ninja Foodi Smart XL Grill</td>\n",
       "      <td>The Ninja Foodi Smart XL Grill features 6-in-1...</td>\n",
       "      <td>279.99</td>\n",
       "      <td>Home &amp; Kitchen</td>\n",
       "      <td>https://www.ninjakitchen.com/medias/Ninja-OP50...</td>\n",
       "    </tr>\n",
       "    <tr>\n",
       "      <th>9</th>\n",
       "      <td>10</td>\n",
       "      <td>Canon EOS Rebel T8i DSLR Camera</td>\n",
       "      <td>The Canon EOS Rebel T8i DSLR Camera features a...</td>\n",
       "      <td>899.00</td>\n",
       "      <td>Electronics</td>\n",
       "      <td>https://www.canon.com.au/-/media/images/produc...</td>\n",
       "    </tr>\n",
       "  </tbody>\n",
       "</table>\n",
       "</div>"
      ],
      "text/plain": [
       "   id                                         name  \\\n",
       "0   1                              Apple iPhone 12   \n",
       "1   2                           Samsung Galaxy S21   \n",
       "2   3                           Sony PlayStation 5   \n",
       "3   4            LG OLED55CXPUA 55-inch 4K OLED TV   \n",
       "4   5  Bose QuietComfort 35 II Wireless Headphones   \n",
       "5   6                    Fitbit Versa 3 Smartwatch   \n",
       "6   7                       KitchenAid Stand Mixer   \n",
       "7   8           Dyson V11 Absolute Cordless Vacuum   \n",
       "8   9                   Ninja Foodi Smart XL Grill   \n",
       "9  10              Canon EOS Rebel T8i DSLR Camera   \n",
       "\n",
       "                                         description    price  \\\n",
       "0  The Apple iPhone 12 features a 6.1-inch Super ...   999.00   \n",
       "1  The Samsung Galaxy S21 features a 6.2-inch Dyn...   799.00   \n",
       "2  The Sony PlayStation 5 features an AMD Zen 2-b...   499.99   \n",
       "3  The LG OLED55CXPUA 55-inch 4K OLED TV features...  1599.99   \n",
       "4  The Bose QuietComfort 35 II Wireless Headphone...   299.00   \n",
       "5  The Fitbit Versa 3 Smartwatch features a built...   229.95   \n",
       "6  The KitchenAid Stand Mixer features a 5-quart ...   399.99   \n",
       "7  The Dyson V11 Absolute Cordless Vacuum feature...   699.99   \n",
       "8  The Ninja Foodi Smart XL Grill features 6-in-1...   279.99   \n",
       "9  The Canon EOS Rebel T8i DSLR Camera features a...   899.00   \n",
       "\n",
       "          category                                              image  \n",
       "0      Electronics  https://www.apple.com/newsroom/images/product/...  \n",
       "1      Electronics  https://images.samsung.com/is/image/samsung/p6...  \n",
       "2      Electronics  https://www.sony.com/image/44baa604124b770c824...  \n",
       "3      Electronics  https://www.lg.com/us/images/tvs/md07501804/ga...  \n",
       "4      Electronics  https://assets.bose.com/content/dam/Bose_DAM/W...  \n",
       "5      Electronics  https://www.fitbit.com/global/content/dam/fitb...  \n",
       "6   Home & Kitchen  https://www.kitchenaid.com/content/dam/global/...  \n",
       "7  Home Appliances  https://www.dysoncanada.ca/dam/dyson/images/pr...  \n",
       "8   Home & Kitchen  https://www.ninjakitchen.com/medias/Ninja-OP50...  \n",
       "9      Electronics  https://www.canon.com.au/-/media/images/produc...  "
      ]
     },
     "execution_count": 57,
     "metadata": {},
     "output_type": "execute_result"
    }
   ],
   "source": [
    "#read data from csv file into a dataframe\n",
    "df=pd.read_csv('Downloads/sales_data_sample.csv',encoding='latin1')\n",
    "df1=pd.read_json('Downloads/sample_Data.json')\n",
    "df1.head(10)"
   ]
  },
  {
   "cell_type": "code",
   "execution_count": 59,
   "id": "d17d019a-17cd-4e95-8037-0459e3a73892",
   "metadata": {},
   "outputs": [
    {
     "data": {
      "text/html": [
       "<div>\n",
       "<style scoped>\n",
       "    .dataframe tbody tr th:only-of-type {\n",
       "        vertical-align: middle;\n",
       "    }\n",
       "\n",
       "    .dataframe tbody tr th {\n",
       "        vertical-align: top;\n",
       "    }\n",
       "\n",
       "    .dataframe thead th {\n",
       "        text-align: right;\n",
       "    }\n",
       "</style>\n",
       "<table border=\"1\" class=\"dataframe\">\n",
       "  <thead>\n",
       "    <tr style=\"text-align: right;\">\n",
       "      <th></th>\n",
       "      <th>id</th>\n",
       "      <th>name</th>\n",
       "      <th>description</th>\n",
       "      <th>price</th>\n",
       "      <th>category</th>\n",
       "      <th>image</th>\n",
       "    </tr>\n",
       "  </thead>\n",
       "  <tbody>\n",
       "    <tr>\n",
       "      <th>15</th>\n",
       "      <td>16</td>\n",
       "      <td>Breville Barista Express Espresso Machine</td>\n",
       "      <td>The Breville Barista Express Espresso Machine ...</td>\n",
       "      <td>699.95</td>\n",
       "      <td>Home &amp; Kitchen</td>\n",
       "      <td>https://www.breville.com/content/dam/breville/...</td>\n",
       "    </tr>\n",
       "    <tr>\n",
       "      <th>16</th>\n",
       "      <td>17</td>\n",
       "      <td>Keurig K-Elite Coffee Maker</td>\n",
       "      <td>The Keurig K-Elite Coffee Maker features a str...</td>\n",
       "      <td>169.99</td>\n",
       "      <td>Home &amp; Kitchen</td>\n",
       "      <td>https://www.keurig.com/content/dam/global-ecom...</td>\n",
       "    </tr>\n",
       "    <tr>\n",
       "      <th>17</th>\n",
       "      <td>18</td>\n",
       "      <td>iRobot Roomba i7+ Robot Vacuum</td>\n",
       "      <td>The iRobot Roomba i7+ Robot Vacuum features au...</td>\n",
       "      <td>799.99</td>\n",
       "      <td>Home &amp; Kitchen</td>\n",
       "      <td>https://store.irobot.com/default/i7-vacuuming-...</td>\n",
       "    </tr>\n",
       "    <tr>\n",
       "      <th>18</th>\n",
       "      <td>19</td>\n",
       "      <td>Ninja Foodi Digital Air Fry Oven</td>\n",
       "      <td>The Ninja Foodi Digital Air Fry Oven features ...</td>\n",
       "      <td>209.99</td>\n",
       "      <td>Home &amp; Kitchen</td>\n",
       "      <td>https://www.ninjakitchen.com/static/img/produc...</td>\n",
       "    </tr>\n",
       "    <tr>\n",
       "      <th>19</th>\n",
       "      <td>20</td>\n",
       "      <td>Cuisinart ICE-70 Ice Cream Maker</td>\n",
       "      <td>The Cuisinart ICE-70 Ice Cream Maker features ...</td>\n",
       "      <td>139.99</td>\n",
       "      <td>Home &amp; Kitchen</td>\n",
       "      <td>https://www.cuisinart.com/share/images/product...</td>\n",
       "    </tr>\n",
       "  </tbody>\n",
       "</table>\n",
       "</div>"
      ],
      "text/plain": [
       "    id                                       name  \\\n",
       "15  16  Breville Barista Express Espresso Machine   \n",
       "16  17                Keurig K-Elite Coffee Maker   \n",
       "17  18             iRobot Roomba i7+ Robot Vacuum   \n",
       "18  19           Ninja Foodi Digital Air Fry Oven   \n",
       "19  20           Cuisinart ICE-70 Ice Cream Maker   \n",
       "\n",
       "                                          description   price        category  \\\n",
       "15  The Breville Barista Express Espresso Machine ...  699.95  Home & Kitchen   \n",
       "16  The Keurig K-Elite Coffee Maker features a str...  169.99  Home & Kitchen   \n",
       "17  The iRobot Roomba i7+ Robot Vacuum features au...  799.99  Home & Kitchen   \n",
       "18  The Ninja Foodi Digital Air Fry Oven features ...  209.99  Home & Kitchen   \n",
       "19  The Cuisinart ICE-70 Ice Cream Maker features ...  139.99  Home & Kitchen   \n",
       "\n",
       "                                                image  \n",
       "15  https://www.breville.com/content/dam/breville/...  \n",
       "16  https://www.keurig.com/content/dam/global-ecom...  \n",
       "17  https://store.irobot.com/default/i7-vacuuming-...  \n",
       "18  https://www.ninjakitchen.com/static/img/produc...  \n",
       "19  https://www.cuisinart.com/share/images/product...  "
      ]
     },
     "execution_count": 59,
     "metadata": {},
     "output_type": "execute_result"
    }
   ],
   "source": [
    "df1.tail()"
   ]
  },
  {
   "cell_type": "code",
   "execution_count": 61,
   "id": "ad49a0f2-ff9e-4c60-b230-77066c8ddca3",
   "metadata": {},
   "outputs": [
    {
     "name": "stdout",
     "output_type": "stream",
     "text": [
      "<class 'pandas.core.frame.DataFrame'>\n",
      "RangeIndex: 20 entries, 0 to 19\n",
      "Data columns (total 6 columns):\n",
      " #   Column       Non-Null Count  Dtype  \n",
      "---  ------       --------------  -----  \n",
      " 0   id           20 non-null     int64  \n",
      " 1   name         20 non-null     object \n",
      " 2   description  20 non-null     object \n",
      " 3   price        20 non-null     float64\n",
      " 4   category     20 non-null     object \n",
      " 5   image        20 non-null     object \n",
      "dtypes: float64(1), int64(1), object(4)\n",
      "memory usage: 1.1+ KB\n"
     ]
    }
   ],
   "source": [
    "df1.info()   #displaying info of data"
   ]
  },
  {
   "cell_type": "code",
   "execution_count": 63,
   "id": "1838c337-268b-45f2-b0b0-aa2ea2e54880",
   "metadata": {},
   "outputs": [
    {
     "data": {
      "text/html": [
       "<div>\n",
       "<style scoped>\n",
       "    .dataframe tbody tr th:only-of-type {\n",
       "        vertical-align: middle;\n",
       "    }\n",
       "\n",
       "    .dataframe tbody tr th {\n",
       "        vertical-align: top;\n",
       "    }\n",
       "\n",
       "    .dataframe thead th {\n",
       "        text-align: right;\n",
       "    }\n",
       "</style>\n",
       "<table border=\"1\" class=\"dataframe\">\n",
       "  <thead>\n",
       "    <tr style=\"text-align: right;\">\n",
       "      <th></th>\n",
       "      <th>id</th>\n",
       "      <th>price</th>\n",
       "    </tr>\n",
       "  </thead>\n",
       "  <tbody>\n",
       "    <tr>\n",
       "      <th>count</th>\n",
       "      <td>20.00000</td>\n",
       "      <td>20.000000</td>\n",
       "    </tr>\n",
       "    <tr>\n",
       "      <th>mean</th>\n",
       "      <td>10.50000</td>\n",
       "      <td>507.687000</td>\n",
       "    </tr>\n",
       "    <tr>\n",
       "      <th>std</th>\n",
       "      <td>5.91608</td>\n",
       "      <td>373.008199</td>\n",
       "    </tr>\n",
       "    <tr>\n",
       "      <th>min</th>\n",
       "      <td>1.00000</td>\n",
       "      <td>129.950000</td>\n",
       "    </tr>\n",
       "    <tr>\n",
       "      <th>25%</th>\n",
       "      <td>5.75000</td>\n",
       "      <td>244.237500</td>\n",
       "    </tr>\n",
       "    <tr>\n",
       "      <th>50%</th>\n",
       "      <td>10.50000</td>\n",
       "      <td>374.990000</td>\n",
       "    </tr>\n",
       "    <tr>\n",
       "      <th>75%</th>\n",
       "      <td>15.25000</td>\n",
       "      <td>724.742500</td>\n",
       "    </tr>\n",
       "    <tr>\n",
       "      <th>max</th>\n",
       "      <td>20.00000</td>\n",
       "      <td>1599.990000</td>\n",
       "    </tr>\n",
       "  </tbody>\n",
       "</table>\n",
       "</div>"
      ],
      "text/plain": [
       "             id        price\n",
       "count  20.00000    20.000000\n",
       "mean   10.50000   507.687000\n",
       "std     5.91608   373.008199\n",
       "min     1.00000   129.950000\n",
       "25%     5.75000   244.237500\n",
       "50%    10.50000   374.990000\n",
       "75%    15.25000   724.742500\n",
       "max    20.00000  1599.990000"
      ]
     },
     "execution_count": 63,
     "metadata": {},
     "output_type": "execute_result"
    }
   ],
   "source": [
    "df1.describe()\n",
    "#count=total non null values\n",
    "#mean=mean, std=std deviation, max, min\n",
    "#25%=first quartile \n",
    "#50%=next quartile"
   ]
  },
  {
   "cell_type": "code",
   "execution_count": 65,
   "id": "8fc00c48-bd0e-4604-bc22-45dd3b0135f5",
   "metadata": {},
   "outputs": [
    {
     "data": {
      "text/plain": [
       "(20, 6)"
      ]
     },
     "execution_count": 65,
     "metadata": {},
     "output_type": "execute_result"
    }
   ],
   "source": [
    "df1.shape"
   ]
  },
  {
   "cell_type": "code",
   "execution_count": 69,
   "id": "e1699a4c-6e9a-45ef-8ff7-e8c0b0867589",
   "metadata": {},
   "outputs": [
    {
     "data": {
      "text/plain": [
       "Index(['id', 'name', 'description', 'price', 'category', 'image'], dtype='object')"
      ]
     },
     "execution_count": 69,
     "metadata": {},
     "output_type": "execute_result"
    }
   ],
   "source": [
    "df1.columns"
   ]
  },
  {
   "cell_type": "code",
   "execution_count": 29,
   "id": "4b685de7-5ef3-483d-bfa9-8407697ee9ee",
   "metadata": {},
   "outputs": [
    {
     "data": {
      "text/html": [
       "<div>\n",
       "<style scoped>\n",
       "    .dataframe tbody tr th:only-of-type {\n",
       "        vertical-align: middle;\n",
       "    }\n",
       "\n",
       "    .dataframe tbody tr th {\n",
       "        vertical-align: top;\n",
       "    }\n",
       "\n",
       "    .dataframe thead th {\n",
       "        text-align: right;\n",
       "    }\n",
       "</style>\n",
       "<table border=\"1\" class=\"dataframe\">\n",
       "  <thead>\n",
       "    <tr style=\"text-align: right;\">\n",
       "      <th></th>\n",
       "      <th>Name</th>\n",
       "      <th>Age</th>\n",
       "    </tr>\n",
       "  </thead>\n",
       "  <tbody>\n",
       "    <tr>\n",
       "      <th>0</th>\n",
       "      <td>vijay</td>\n",
       "      <td>33</td>\n",
       "    </tr>\n",
       "    <tr>\n",
       "      <th>1</th>\n",
       "      <td>mahesh</td>\n",
       "      <td>44</td>\n",
       "    </tr>\n",
       "  </tbody>\n",
       "</table>\n",
       "</div>"
      ],
      "text/plain": [
       "     Name  Age\n",
       "0   vijay   33\n",
       "1  mahesh   44"
      ]
     },
     "execution_count": 29,
     "metadata": {},
     "output_type": "execute_result"
    }
   ],
   "source": [
    "#dataframe\n",
    "data={\n",
    "    \"Name\":['vijay','mahesh'],\n",
    "    \"Age\":[33,44]\n",
    "}\n",
    "df=pd.DataFrame(data)\n",
    "df"
   ]
  },
  {
   "cell_type": "code",
   "execution_count": 47,
   "id": "af878797-2fb0-435e-9633-ebb24e91e89d",
   "metadata": {},
   "outputs": [],
   "source": [
    "df.to_csv('output.csv',index=False)\n",
    "df.to_json('output.json',index=False)\n",
    "df.to_excel('output.xlsx',index=False)"
   ]
  },
  {
   "cell_type": "code",
   "execution_count": 95,
   "id": "89f20e4a-f2e4-401c-b089-c718930c3478",
   "metadata": {},
   "outputs": [
    {
     "name": "stdout",
     "output_type": "stream",
     "text": [
      "     name  age  salary\n",
      "0   vijay   23   50000\n",
      "1  mahesh   34   25000\n",
      "2   arjun   31   35000\n",
      "3   rohit   30   81000\n"
     ]
    }
   ],
   "source": [
    "data={\n",
    "    \"name\":['vijay','mahesh','arjun','rohit'],\n",
    "    \"age\":[23,34,31,30],\n",
    "    \"salary\":[50000,25000,35000,81000]\n",
    "}\n",
    "df=pd.DataFrame(data)\n",
    "print(df)"
   ]
  },
  {
   "cell_type": "code",
   "execution_count": 97,
   "id": "8021d541-3246-4a63-9e39-c2cac2f8b0e2",
   "metadata": {},
   "outputs": [
    {
     "data": {
      "text/plain": [
       "0     vijay\n",
       "1    mahesh\n",
       "2     arjun\n",
       "3     rohit\n",
       "Name: name, dtype: object"
      ]
     },
     "execution_count": 97,
     "metadata": {},
     "output_type": "execute_result"
    }
   ],
   "source": [
    "#accesing column\n",
    "name=df['name']   #single column returns series of data\n",
    "name"
   ]
  },
  {
   "cell_type": "code",
   "execution_count": 99,
   "id": "f53af5a3-73cd-4bb8-9caf-6a71b5277286",
   "metadata": {},
   "outputs": [
    {
     "data": {
      "text/html": [
       "<div>\n",
       "<style scoped>\n",
       "    .dataframe tbody tr th:only-of-type {\n",
       "        vertical-align: middle;\n",
       "    }\n",
       "\n",
       "    .dataframe tbody tr th {\n",
       "        vertical-align: top;\n",
       "    }\n",
       "\n",
       "    .dataframe thead th {\n",
       "        text-align: right;\n",
       "    }\n",
       "</style>\n",
       "<table border=\"1\" class=\"dataframe\">\n",
       "  <thead>\n",
       "    <tr style=\"text-align: right;\">\n",
       "      <th></th>\n",
       "      <th>name</th>\n",
       "      <th>salary</th>\n",
       "    </tr>\n",
       "  </thead>\n",
       "  <tbody>\n",
       "    <tr>\n",
       "      <th>0</th>\n",
       "      <td>vijay</td>\n",
       "      <td>50000</td>\n",
       "    </tr>\n",
       "    <tr>\n",
       "      <th>1</th>\n",
       "      <td>mahesh</td>\n",
       "      <td>25000</td>\n",
       "    </tr>\n",
       "    <tr>\n",
       "      <th>2</th>\n",
       "      <td>arjun</td>\n",
       "      <td>35000</td>\n",
       "    </tr>\n",
       "    <tr>\n",
       "      <th>3</th>\n",
       "      <td>rohit</td>\n",
       "      <td>81000</td>\n",
       "    </tr>\n",
       "  </tbody>\n",
       "</table>\n",
       "</div>"
      ],
      "text/plain": [
       "     name  salary\n",
       "0   vijay   50000\n",
       "1  mahesh   25000\n",
       "2   arjun   35000\n",
       "3   rohit   81000"
      ]
     },
     "execution_count": 99,
     "metadata": {},
     "output_type": "execute_result"
    }
   ],
   "source": [
    "#selecting multiple columns\n",
    "subset=df[['name','salary']]  #multiple columns returns dataframe of data\n",
    "subset"
   ]
  },
  {
   "cell_type": "code",
   "execution_count": 101,
   "id": "3015cada-6ce1-4088-ae9c-482c8d16ece9",
   "metadata": {},
   "outputs": [
    {
     "name": "stdout",
     "output_type": "stream",
     "text": [
      "    name  age  salary\n",
      "3  rohit   30   81000\n"
     ]
    }
   ],
   "source": [
    "high_salary=df[df['salary']>50000]\n",
    "print(high_salary)"
   ]
  },
  {
   "cell_type": "code",
   "execution_count": 106,
   "id": "52dcb489-2937-4e03-8dc4-97a8839326e2",
   "metadata": {},
   "outputs": [
    {
     "data": {
      "text/html": [
       "<div>\n",
       "<style scoped>\n",
       "    .dataframe tbody tr th:only-of-type {\n",
       "        vertical-align: middle;\n",
       "    }\n",
       "\n",
       "    .dataframe tbody tr th {\n",
       "        vertical-align: top;\n",
       "    }\n",
       "\n",
       "    .dataframe thead th {\n",
       "        text-align: right;\n",
       "    }\n",
       "</style>\n",
       "<table border=\"1\" class=\"dataframe\">\n",
       "  <thead>\n",
       "    <tr style=\"text-align: right;\">\n",
       "      <th></th>\n",
       "      <th>name</th>\n",
       "      <th>age</th>\n",
       "      <th>salary</th>\n",
       "    </tr>\n",
       "  </thead>\n",
       "  <tbody>\n",
       "    <tr>\n",
       "      <th>2</th>\n",
       "      <td>arjun</td>\n",
       "      <td>31</td>\n",
       "      <td>35000</td>\n",
       "    </tr>\n",
       "    <tr>\n",
       "      <th>3</th>\n",
       "      <td>rohit</td>\n",
       "      <td>30</td>\n",
       "      <td>81000</td>\n",
       "    </tr>\n",
       "  </tbody>\n",
       "</table>\n",
       "</div>"
      ],
      "text/plain": [
       "    name  age  salary\n",
       "2  arjun   31   35000\n",
       "3  rohit   30   81000"
      ]
     },
     "execution_count": 106,
     "metadata": {},
     "output_type": "execute_result"
    }
   ],
   "source": [
    "salary=df[(df['salary']>30000 )& (df['age']>25)]\n",
    "salary"
   ]
  },
  {
   "cell_type": "code",
   "execution_count": 112,
   "id": "81647d97-0a79-457f-a488-a59ffd458a2d",
   "metadata": {},
   "outputs": [
    {
     "data": {
      "text/html": [
       "<div>\n",
       "<style scoped>\n",
       "    .dataframe tbody tr th:only-of-type {\n",
       "        vertical-align: middle;\n",
       "    }\n",
       "\n",
       "    .dataframe tbody tr th {\n",
       "        vertical-align: top;\n",
       "    }\n",
       "\n",
       "    .dataframe thead th {\n",
       "        text-align: right;\n",
       "    }\n",
       "</style>\n",
       "<table border=\"1\" class=\"dataframe\">\n",
       "  <thead>\n",
       "    <tr style=\"text-align: right;\">\n",
       "      <th></th>\n",
       "      <th>name</th>\n",
       "      <th>age</th>\n",
       "      <th>salary</th>\n",
       "      <th>performance_score</th>\n",
       "    </tr>\n",
       "  </thead>\n",
       "  <tbody>\n",
       "    <tr>\n",
       "      <th>0</th>\n",
       "      <td>vijay</td>\n",
       "      <td>23</td>\n",
       "      <td>50000</td>\n",
       "      <td>88</td>\n",
       "    </tr>\n",
       "    <tr>\n",
       "      <th>1</th>\n",
       "      <td>mahesh</td>\n",
       "      <td>34</td>\n",
       "      <td>25000</td>\n",
       "      <td>78</td>\n",
       "    </tr>\n",
       "    <tr>\n",
       "      <th>2</th>\n",
       "      <td>arjun</td>\n",
       "      <td>31</td>\n",
       "      <td>35000</td>\n",
       "      <td>88</td>\n",
       "    </tr>\n",
       "    <tr>\n",
       "      <th>3</th>\n",
       "      <td>rohit</td>\n",
       "      <td>30</td>\n",
       "      <td>81000</td>\n",
       "      <td>87</td>\n",
       "    </tr>\n",
       "  </tbody>\n",
       "</table>\n",
       "</div>"
      ],
      "text/plain": [
       "     name  age  salary  performance_score\n",
       "0   vijay   23   50000                 88\n",
       "1  mahesh   34   25000                 78\n",
       "2   arjun   31   35000                 88\n",
       "3   rohit   30   81000                 87"
      ]
     },
     "execution_count": 112,
     "metadata": {},
     "output_type": "execute_result"
    }
   ],
   "source": [
    "#adding new column\n",
    "new=df[\"performance_score\"]=[88,78,88,87]\n",
    "df"
   ]
  },
  {
   "cell_type": "code",
   "execution_count": 132,
   "id": "22a1acb1-24b6-47bc-8cbb-9d78d24bef17",
   "metadata": {},
   "outputs": [
    {
     "data": {
      "text/html": [
       "<div>\n",
       "<style scoped>\n",
       "    .dataframe tbody tr th:only-of-type {\n",
       "        vertical-align: middle;\n",
       "    }\n",
       "\n",
       "    .dataframe tbody tr th {\n",
       "        vertical-align: top;\n",
       "    }\n",
       "\n",
       "    .dataframe thead th {\n",
       "        text-align: right;\n",
       "    }\n",
       "</style>\n",
       "<table border=\"1\" class=\"dataframe\">\n",
       "  <thead>\n",
       "    <tr style=\"text-align: right;\">\n",
       "      <th></th>\n",
       "      <th>unique id</th>\n",
       "      <th>Employee ID new</th>\n",
       "      <th>Employee ID</th>\n",
       "      <th>ID</th>\n",
       "      <th>name</th>\n",
       "      <th>age</th>\n",
       "      <th>salary</th>\n",
       "      <th>performance_score</th>\n",
       "    </tr>\n",
       "  </thead>\n",
       "  <tbody>\n",
       "    <tr>\n",
       "      <th>0</th>\n",
       "      <td>45</td>\n",
       "      <td>45</td>\n",
       "      <td>45</td>\n",
       "      <td>45</td>\n",
       "      <td>vijay</td>\n",
       "      <td>23</td>\n",
       "      <td>50000</td>\n",
       "      <td>88</td>\n",
       "    </tr>\n",
       "    <tr>\n",
       "      <th>1</th>\n",
       "      <td>9</td>\n",
       "      <td>9</td>\n",
       "      <td>9</td>\n",
       "      <td>9</td>\n",
       "      <td>mahesh</td>\n",
       "      <td>34</td>\n",
       "      <td>25000</td>\n",
       "      <td>78</td>\n",
       "    </tr>\n",
       "    <tr>\n",
       "      <th>2</th>\n",
       "      <td>72</td>\n",
       "      <td>72</td>\n",
       "      <td>72</td>\n",
       "      <td>72</td>\n",
       "      <td>arjun</td>\n",
       "      <td>31</td>\n",
       "      <td>35000</td>\n",
       "      <td>88</td>\n",
       "    </tr>\n",
       "    <tr>\n",
       "      <th>3</th>\n",
       "      <td>37</td>\n",
       "      <td>37</td>\n",
       "      <td>37</td>\n",
       "      <td>37</td>\n",
       "      <td>rohit</td>\n",
       "      <td>30</td>\n",
       "      <td>81000</td>\n",
       "      <td>87</td>\n",
       "    </tr>\n",
       "  </tbody>\n",
       "</table>\n",
       "</div>"
      ],
      "text/plain": [
       "   unique id  Employee ID new  Employee ID  ID    name  age  salary  \\\n",
       "0         45               45           45  45   vijay   23   50000   \n",
       "1          9                9            9   9  mahesh   34   25000   \n",
       "2         72               72           72  72   arjun   31   35000   \n",
       "3         37               37           37  37   rohit   30   81000   \n",
       "\n",
       "   performance_score  \n",
       "0                 88  \n",
       "1                 78  \n",
       "2                 88  \n",
       "3                 87  "
      ]
     },
     "execution_count": 132,
     "metadata": {},
     "output_type": "execute_result"
    }
   ],
   "source": [
    "#using insert()- df.insert(loc,\"column name\",some_data)\n",
    "df.insert(0,\"unique id\",[45,9,72,37])\n",
    "df"
   ]
  },
  {
   "cell_type": "code",
   "execution_count": 134,
   "id": "c4bd861a-588d-4798-97f0-10d323693e1c",
   "metadata": {},
   "outputs": [
    {
     "data": {
      "text/html": [
       "<div>\n",
       "<style scoped>\n",
       "    .dataframe tbody tr th:only-of-type {\n",
       "        vertical-align: middle;\n",
       "    }\n",
       "\n",
       "    .dataframe tbody tr th {\n",
       "        vertical-align: top;\n",
       "    }\n",
       "\n",
       "    .dataframe thead th {\n",
       "        text-align: right;\n",
       "    }\n",
       "</style>\n",
       "<table border=\"1\" class=\"dataframe\">\n",
       "  <thead>\n",
       "    <tr style=\"text-align: right;\">\n",
       "      <th></th>\n",
       "      <th>unique id</th>\n",
       "      <th>Employee ID new</th>\n",
       "      <th>Employee ID</th>\n",
       "      <th>ID</th>\n",
       "      <th>name</th>\n",
       "      <th>age</th>\n",
       "      <th>salary</th>\n",
       "      <th>performance_score</th>\n",
       "    </tr>\n",
       "  </thead>\n",
       "  <tbody>\n",
       "    <tr>\n",
       "      <th>0</th>\n",
       "      <td>45</td>\n",
       "      <td>45</td>\n",
       "      <td>45</td>\n",
       "      <td>45</td>\n",
       "      <td>vijay</td>\n",
       "      <td>23</td>\n",
       "      <td>50000</td>\n",
       "      <td>88</td>\n",
       "    </tr>\n",
       "    <tr>\n",
       "      <th>1</th>\n",
       "      <td>9</td>\n",
       "      <td>9</td>\n",
       "      <td>9</td>\n",
       "      <td>9</td>\n",
       "      <td>mahesh</td>\n",
       "      <td>34</td>\n",
       "      <td>100000</td>\n",
       "      <td>78</td>\n",
       "    </tr>\n",
       "    <tr>\n",
       "      <th>2</th>\n",
       "      <td>72</td>\n",
       "      <td>72</td>\n",
       "      <td>72</td>\n",
       "      <td>72</td>\n",
       "      <td>arjun</td>\n",
       "      <td>31</td>\n",
       "      <td>35000</td>\n",
       "      <td>88</td>\n",
       "    </tr>\n",
       "    <tr>\n",
       "      <th>3</th>\n",
       "      <td>37</td>\n",
       "      <td>37</td>\n",
       "      <td>37</td>\n",
       "      <td>37</td>\n",
       "      <td>rohit</td>\n",
       "      <td>30</td>\n",
       "      <td>81000</td>\n",
       "      <td>87</td>\n",
       "    </tr>\n",
       "  </tbody>\n",
       "</table>\n",
       "</div>"
      ],
      "text/plain": [
       "   unique id  Employee ID new  Employee ID  ID    name  age  salary  \\\n",
       "0         45               45           45  45   vijay   23   50000   \n",
       "1          9                9            9   9  mahesh   34  100000   \n",
       "2         72               72           72  72   arjun   31   35000   \n",
       "3         37               37           37  37   rohit   30   81000   \n",
       "\n",
       "   performance_score  \n",
       "0                 88  \n",
       "1                 78  \n",
       "2                 88  \n",
       "3                 87  "
      ]
     },
     "execution_count": 134,
     "metadata": {},
     "output_type": "execute_result"
    }
   ],
   "source": [
    "#.loc-  df.loc(row_index,'column name')=new value\n",
    "df.loc[1,'salary']=100000\n",
    "df"
   ]
  },
  {
   "cell_type": "code",
   "execution_count": 140,
   "id": "76affa0a-99a9-4d1d-80e3-8a126b2f8b09",
   "metadata": {},
   "outputs": [
    {
     "data": {
      "text/html": [
       "<div>\n",
       "<style scoped>\n",
       "    .dataframe tbody tr th:only-of-type {\n",
       "        vertical-align: middle;\n",
       "    }\n",
       "\n",
       "    .dataframe tbody tr th {\n",
       "        vertical-align: top;\n",
       "    }\n",
       "\n",
       "    .dataframe thead th {\n",
       "        text-align: right;\n",
       "    }\n",
       "</style>\n",
       "<table border=\"1\" class=\"dataframe\">\n",
       "  <thead>\n",
       "    <tr style=\"text-align: right;\">\n",
       "      <th></th>\n",
       "      <th>unique id</th>\n",
       "      <th>Employee ID new</th>\n",
       "      <th>Employee ID</th>\n",
       "      <th>ID</th>\n",
       "      <th>name</th>\n",
       "      <th>age</th>\n",
       "      <th>salary</th>\n",
       "      <th>performance_score</th>\n",
       "    </tr>\n",
       "  </thead>\n",
       "  <tbody>\n",
       "    <tr>\n",
       "      <th>0</th>\n",
       "      <td>45</td>\n",
       "      <td>45</td>\n",
       "      <td>45</td>\n",
       "      <td>45</td>\n",
       "      <td>vijay</td>\n",
       "      <td>23</td>\n",
       "      <td>52500.0</td>\n",
       "      <td>88</td>\n",
       "    </tr>\n",
       "    <tr>\n",
       "      <th>1</th>\n",
       "      <td>9</td>\n",
       "      <td>9</td>\n",
       "      <td>9</td>\n",
       "      <td>9</td>\n",
       "      <td>mahesh</td>\n",
       "      <td>34</td>\n",
       "      <td>105000.0</td>\n",
       "      <td>78</td>\n",
       "    </tr>\n",
       "    <tr>\n",
       "      <th>2</th>\n",
       "      <td>72</td>\n",
       "      <td>72</td>\n",
       "      <td>72</td>\n",
       "      <td>72</td>\n",
       "      <td>arjun</td>\n",
       "      <td>31</td>\n",
       "      <td>36750.0</td>\n",
       "      <td>88</td>\n",
       "    </tr>\n",
       "    <tr>\n",
       "      <th>3</th>\n",
       "      <td>37</td>\n",
       "      <td>37</td>\n",
       "      <td>37</td>\n",
       "      <td>37</td>\n",
       "      <td>rohit</td>\n",
       "      <td>30</td>\n",
       "      <td>85050.0</td>\n",
       "      <td>87</td>\n",
       "    </tr>\n",
       "  </tbody>\n",
       "</table>\n",
       "</div>"
      ],
      "text/plain": [
       "   unique id  Employee ID new  Employee ID  ID    name  age    salary  \\\n",
       "0         45               45           45  45   vijay   23   52500.0   \n",
       "1          9                9            9   9  mahesh   34  105000.0   \n",
       "2         72               72           72  72   arjun   31   36750.0   \n",
       "3         37               37           37  37   rohit   30   85050.0   \n",
       "\n",
       "   performance_score  \n",
       "0                 88  \n",
       "1                 78  \n",
       "2                 88  \n",
       "3                 87  "
      ]
     },
     "execution_count": 140,
     "metadata": {},
     "output_type": "execute_result"
    }
   ],
   "source": [
    "#increasing salary by 5%\n",
    "df['salary']=df['salary']*1.05\n",
    "df"
   ]
  },
  {
   "cell_type": "code",
   "execution_count": 162,
   "id": "fd0475fd-2f00-4dda-b2a0-93b332de3ae8",
   "metadata": {},
   "outputs": [
    {
     "data": {
      "text/plain": [
       "Index(['Employee ID new', 'ID', 'name', 'age', 'salary', 'performance_score'], dtype='object')"
      ]
     },
     "execution_count": 162,
     "metadata": {},
     "output_type": "execute_result"
    }
   ],
   "source": [
    "df.columns"
   ]
  },
  {
   "cell_type": "code",
   "execution_count": 164,
   "id": "a7a19be7-695a-4fc1-9c5e-663961eae087",
   "metadata": {},
   "outputs": [
    {
     "data": {
      "text/html": [
       "<div>\n",
       "<style scoped>\n",
       "    .dataframe tbody tr th:only-of-type {\n",
       "        vertical-align: middle;\n",
       "    }\n",
       "\n",
       "    .dataframe tbody tr th {\n",
       "        vertical-align: top;\n",
       "    }\n",
       "\n",
       "    .dataframe thead th {\n",
       "        text-align: right;\n",
       "    }\n",
       "</style>\n",
       "<table border=\"1\" class=\"dataframe\">\n",
       "  <thead>\n",
       "    <tr style=\"text-align: right;\">\n",
       "      <th></th>\n",
       "      <th>Employee ID new</th>\n",
       "      <th>ID</th>\n",
       "      <th>salary</th>\n",
       "      <th>performance_score</th>\n",
       "    </tr>\n",
       "  </thead>\n",
       "  <tbody>\n",
       "    <tr>\n",
       "      <th>0</th>\n",
       "      <td>45</td>\n",
       "      <td>45</td>\n",
       "      <td>52500.0</td>\n",
       "      <td>88</td>\n",
       "    </tr>\n",
       "    <tr>\n",
       "      <th>1</th>\n",
       "      <td>9</td>\n",
       "      <td>9</td>\n",
       "      <td>105000.0</td>\n",
       "      <td>78</td>\n",
       "    </tr>\n",
       "    <tr>\n",
       "      <th>2</th>\n",
       "      <td>72</td>\n",
       "      <td>72</td>\n",
       "      <td>36750.0</td>\n",
       "      <td>88</td>\n",
       "    </tr>\n",
       "    <tr>\n",
       "      <th>3</th>\n",
       "      <td>37</td>\n",
       "      <td>37</td>\n",
       "      <td>85050.0</td>\n",
       "      <td>87</td>\n",
       "    </tr>\n",
       "  </tbody>\n",
       "</table>\n",
       "</div>"
      ],
      "text/plain": [
       "   Employee ID new  ID    salary  performance_score\n",
       "0               45  45   52500.0                 88\n",
       "1                9   9  105000.0                 78\n",
       "2               72  72   36750.0                 88\n",
       "3               37  37   85050.0                 87"
      ]
     },
     "execution_count": 164,
     "metadata": {},
     "output_type": "execute_result"
    }
   ],
   "source": [
    "#removing columns:\n",
    "#drop()- df.drop(columns=['column name'],inplace=True)  \n",
    "#inplace=True means it modifies original dataset\n",
    "df.drop(columns=[\"name\",\"age\"],inplace=True)\n",
    "df"
   ]
  },
  {
   "cell_type": "code",
   "execution_count": 169,
   "id": "152bebf1-73ea-48a3-8e24-c9c21f7632cb",
   "metadata": {},
   "outputs": [
    {
     "data": {
      "text/html": [
       "<div>\n",
       "<style scoped>\n",
       "    .dataframe tbody tr th:only-of-type {\n",
       "        vertical-align: middle;\n",
       "    }\n",
       "\n",
       "    .dataframe tbody tr th {\n",
       "        vertical-align: top;\n",
       "    }\n",
       "\n",
       "    .dataframe thead th {\n",
       "        text-align: right;\n",
       "    }\n",
       "</style>\n",
       "<table border=\"1\" class=\"dataframe\">\n",
       "  <thead>\n",
       "    <tr style=\"text-align: right;\">\n",
       "      <th></th>\n",
       "      <th>name</th>\n",
       "      <th>age</th>\n",
       "      <th>salary</th>\n",
       "    </tr>\n",
       "  </thead>\n",
       "  <tbody>\n",
       "    <tr>\n",
       "      <th>0</th>\n",
       "      <td>vijay</td>\n",
       "      <td>33.0</td>\n",
       "      <td>50000.0</td>\n",
       "    </tr>\n",
       "    <tr>\n",
       "      <th>1</th>\n",
       "      <td>None</td>\n",
       "      <td>NaN</td>\n",
       "      <td>NaN</td>\n",
       "    </tr>\n",
       "    <tr>\n",
       "      <th>2</th>\n",
       "      <td>rohit</td>\n",
       "      <td>35.0</td>\n",
       "      <td>70000.0</td>\n",
       "    </tr>\n",
       "    <tr>\n",
       "      <th>3</th>\n",
       "      <td>arjun</td>\n",
       "      <td>34.0</td>\n",
       "      <td>80000.0</td>\n",
       "    </tr>\n",
       "  </tbody>\n",
       "</table>\n",
       "</div>"
      ],
      "text/plain": [
       "    name   age   salary\n",
       "0  vijay  33.0  50000.0\n",
       "1   None   NaN      NaN\n",
       "2  rohit  35.0  70000.0\n",
       "3  arjun  34.0  80000.0"
      ]
     },
     "execution_count": 169,
     "metadata": {},
     "output_type": "execute_result"
    }
   ],
   "source": [
    "#handelling missing data\n",
    "#NaN(not a number)\n",
    "data={\n",
    "    \"name\":['vijay',None,'rohit','arjun'],\n",
    "    \"age\":[33,None,35,34],\n",
    "    \"salary\":[50000,None,70000,80000]\n",
    "}\n",
    "df=pd.DataFrame(data)\n",
    "df"
   ]
  },
  {
   "cell_type": "code",
   "execution_count": 171,
   "id": "c1b75aea-6c78-4d4d-adde-b0ca1ea0e238",
   "metadata": {},
   "outputs": [
    {
     "name": "stdout",
     "output_type": "stream",
     "text": [
      "    name    age  salary\n",
      "0  False  False   False\n",
      "1   True   True    True\n",
      "2  False  False   False\n",
      "3  False  False   False\n"
     ]
    }
   ],
   "source": [
    "print(df.isnull())"
   ]
  },
  {
   "cell_type": "code",
   "execution_count": 173,
   "id": "0ad19cb5-23a8-4afb-80c8-033b8d9016e8",
   "metadata": {},
   "outputs": [
    {
     "name": "stdout",
     "output_type": "stream",
     "text": [
      "name      1\n",
      "age       1\n",
      "salary    1\n",
      "dtype: int64\n"
     ]
    }
   ],
   "source": [
    "print(df.isnull().sum())"
   ]
  },
  {
   "cell_type": "code",
   "execution_count": 175,
   "id": "d3f443b1-d887-4a92-90da-5a1afb853bb7",
   "metadata": {},
   "outputs": [
    {
     "data": {
      "text/html": [
       "<div>\n",
       "<style scoped>\n",
       "    .dataframe tbody tr th:only-of-type {\n",
       "        vertical-align: middle;\n",
       "    }\n",
       "\n",
       "    .dataframe tbody tr th {\n",
       "        vertical-align: top;\n",
       "    }\n",
       "\n",
       "    .dataframe thead th {\n",
       "        text-align: right;\n",
       "    }\n",
       "</style>\n",
       "<table border=\"1\" class=\"dataframe\">\n",
       "  <thead>\n",
       "    <tr style=\"text-align: right;\">\n",
       "      <th></th>\n",
       "      <th>name</th>\n",
       "      <th>age</th>\n",
       "      <th>salary</th>\n",
       "    </tr>\n",
       "  </thead>\n",
       "  <tbody>\n",
       "    <tr>\n",
       "      <th>0</th>\n",
       "      <td>vijay</td>\n",
       "      <td>33.0</td>\n",
       "      <td>50000.0</td>\n",
       "    </tr>\n",
       "    <tr>\n",
       "      <th>2</th>\n",
       "      <td>rohit</td>\n",
       "      <td>35.0</td>\n",
       "      <td>70000.0</td>\n",
       "    </tr>\n",
       "    <tr>\n",
       "      <th>3</th>\n",
       "      <td>arjun</td>\n",
       "      <td>34.0</td>\n",
       "      <td>80000.0</td>\n",
       "    </tr>\n",
       "  </tbody>\n",
       "</table>\n",
       "</div>"
      ],
      "text/plain": [
       "    name   age   salary\n",
       "0  vijay  33.0  50000.0\n",
       "2  rohit  35.0  70000.0\n",
       "3  arjun  34.0  80000.0"
      ]
     },
     "execution_count": 175,
     "metadata": {},
     "output_type": "execute_result"
    }
   ],
   "source": [
    "df.dropna(axis=0,inplace=True)   #axis=0 means rows axis=1 means columns\n",
    "df"
   ]
  },
  {
   "cell_type": "code",
   "execution_count": 183,
   "id": "1547675b-e285-4045-adf9-ef2875aac60b",
   "metadata": {},
   "outputs": [],
   "source": [
    "#fillna() -filling missing values\n",
    "data={\n",
    "    \"name\":['vijay',None,'rohit','arjun'],\n",
    "    \"age\":[33,None,35,34],\n",
    "    \"salary\":[50000,None,70000,80000]\n",
    "}\n",
    "df=pd.DataFrame(data)\n"
   ]
  },
  {
   "cell_type": "code",
   "execution_count": 185,
   "id": "d3b140fd-5fab-483f-bc07-003a9583309a",
   "metadata": {},
   "outputs": [
    {
     "data": {
      "text/html": [
       "<div>\n",
       "<style scoped>\n",
       "    .dataframe tbody tr th:only-of-type {\n",
       "        vertical-align: middle;\n",
       "    }\n",
       "\n",
       "    .dataframe tbody tr th {\n",
       "        vertical-align: top;\n",
       "    }\n",
       "\n",
       "    .dataframe thead th {\n",
       "        text-align: right;\n",
       "    }\n",
       "</style>\n",
       "<table border=\"1\" class=\"dataframe\">\n",
       "  <thead>\n",
       "    <tr style=\"text-align: right;\">\n",
       "      <th></th>\n",
       "      <th>name</th>\n",
       "      <th>age</th>\n",
       "      <th>salary</th>\n",
       "    </tr>\n",
       "  </thead>\n",
       "  <tbody>\n",
       "    <tr>\n",
       "      <th>0</th>\n",
       "      <td>vijay</td>\n",
       "      <td>33.0</td>\n",
       "      <td>50000.0</td>\n",
       "    </tr>\n",
       "    <tr>\n",
       "      <th>1</th>\n",
       "      <td>0</td>\n",
       "      <td>0.0</td>\n",
       "      <td>0.0</td>\n",
       "    </tr>\n",
       "    <tr>\n",
       "      <th>2</th>\n",
       "      <td>rohit</td>\n",
       "      <td>35.0</td>\n",
       "      <td>70000.0</td>\n",
       "    </tr>\n",
       "    <tr>\n",
       "      <th>3</th>\n",
       "      <td>arjun</td>\n",
       "      <td>34.0</td>\n",
       "      <td>80000.0</td>\n",
       "    </tr>\n",
       "  </tbody>\n",
       "</table>\n",
       "</div>"
      ],
      "text/plain": [
       "    name   age   salary\n",
       "0  vijay  33.0  50000.0\n",
       "1      0   0.0      0.0\n",
       "2  rohit  35.0  70000.0\n",
       "3  arjun  34.0  80000.0"
      ]
     },
     "execution_count": 185,
     "metadata": {},
     "output_type": "execute_result"
    }
   ],
   "source": [
    "df.fillna(0,inplace=True)\n",
    "df"
   ]
  },
  {
   "cell_type": "code",
   "execution_count": 193,
   "id": "0c894fae-d179-43c9-92cd-d40a5421fde0",
   "metadata": {},
   "outputs": [],
   "source": [
    "data={\n",
    "    \"name\":['vijay',None,'rohit','arjun'],\n",
    "    \"age\":[33,None,35,34],\n",
    "    \"salary\":[50000,None,70000,80000]\n",
    "}\n",
    "df=pd.DataFrame(data)"
   ]
  },
  {
   "cell_type": "code",
   "execution_count": 195,
   "id": "3eb77da7-f081-4712-8b6b-f906b45f0524",
   "metadata": {},
   "outputs": [
    {
     "name": "stderr",
     "output_type": "stream",
     "text": [
      "C:\\Users\\USER\\AppData\\Local\\Temp\\ipykernel_1128\\2267534514.py:1: FutureWarning: A value is trying to be set on a copy of a DataFrame or Series through chained assignment using an inplace method.\n",
      "The behavior will change in pandas 3.0. This inplace method will never work because the intermediate object on which we are setting values always behaves as a copy.\n",
      "\n",
      "For example, when doing 'df[col].method(value, inplace=True)', try using 'df.method({col: value}, inplace=True)' or df[col] = df[col].method(value) instead, to perform the operation inplace on the original object.\n",
      "\n",
      "\n",
      "  df['age'].fillna(df['age'].mean(),inplace=True)\n"
     ]
    },
    {
     "data": {
      "text/html": [
       "<div>\n",
       "<style scoped>\n",
       "    .dataframe tbody tr th:only-of-type {\n",
       "        vertical-align: middle;\n",
       "    }\n",
       "\n",
       "    .dataframe tbody tr th {\n",
       "        vertical-align: top;\n",
       "    }\n",
       "\n",
       "    .dataframe thead th {\n",
       "        text-align: right;\n",
       "    }\n",
       "</style>\n",
       "<table border=\"1\" class=\"dataframe\">\n",
       "  <thead>\n",
       "    <tr style=\"text-align: right;\">\n",
       "      <th></th>\n",
       "      <th>name</th>\n",
       "      <th>age</th>\n",
       "      <th>salary</th>\n",
       "    </tr>\n",
       "  </thead>\n",
       "  <tbody>\n",
       "    <tr>\n",
       "      <th>0</th>\n",
       "      <td>vijay</td>\n",
       "      <td>33.0</td>\n",
       "      <td>50000.0</td>\n",
       "    </tr>\n",
       "    <tr>\n",
       "      <th>1</th>\n",
       "      <td>None</td>\n",
       "      <td>34.0</td>\n",
       "      <td>NaN</td>\n",
       "    </tr>\n",
       "    <tr>\n",
       "      <th>2</th>\n",
       "      <td>rohit</td>\n",
       "      <td>35.0</td>\n",
       "      <td>70000.0</td>\n",
       "    </tr>\n",
       "    <tr>\n",
       "      <th>3</th>\n",
       "      <td>arjun</td>\n",
       "      <td>34.0</td>\n",
       "      <td>80000.0</td>\n",
       "    </tr>\n",
       "  </tbody>\n",
       "</table>\n",
       "</div>"
      ],
      "text/plain": [
       "    name   age   salary\n",
       "0  vijay  33.0  50000.0\n",
       "1   None  34.0      NaN\n",
       "2  rohit  35.0  70000.0\n",
       "3  arjun  34.0  80000.0"
      ]
     },
     "execution_count": 195,
     "metadata": {},
     "output_type": "execute_result"
    }
   ],
   "source": [
    "df['age'].fillna(df['age'].mean(),inplace=True)\n",
    "df"
   ]
  },
  {
   "cell_type": "code",
   "execution_count": 198,
   "id": "c02bb63a-c437-4bc5-b884-e033191438a2",
   "metadata": {},
   "outputs": [
    {
     "name": "stderr",
     "output_type": "stream",
     "text": [
      "C:\\Users\\USER\\AppData\\Local\\Temp\\ipykernel_1128\\922588880.py:1: FutureWarning: A value is trying to be set on a copy of a DataFrame or Series through chained assignment using an inplace method.\n",
      "The behavior will change in pandas 3.0. This inplace method will never work because the intermediate object on which we are setting values always behaves as a copy.\n",
      "\n",
      "For example, when doing 'df[col].method(value, inplace=True)', try using 'df.method({col: value}, inplace=True)' or df[col] = df[col].method(value) instead, to perform the operation inplace on the original object.\n",
      "\n",
      "\n",
      "  df['salary'].fillna(df['salary'].mean(),inplace=True)\n"
     ]
    },
    {
     "data": {
      "text/html": [
       "<div>\n",
       "<style scoped>\n",
       "    .dataframe tbody tr th:only-of-type {\n",
       "        vertical-align: middle;\n",
       "    }\n",
       "\n",
       "    .dataframe tbody tr th {\n",
       "        vertical-align: top;\n",
       "    }\n",
       "\n",
       "    .dataframe thead th {\n",
       "        text-align: right;\n",
       "    }\n",
       "</style>\n",
       "<table border=\"1\" class=\"dataframe\">\n",
       "  <thead>\n",
       "    <tr style=\"text-align: right;\">\n",
       "      <th></th>\n",
       "      <th>name</th>\n",
       "      <th>age</th>\n",
       "      <th>salary</th>\n",
       "    </tr>\n",
       "  </thead>\n",
       "  <tbody>\n",
       "    <tr>\n",
       "      <th>0</th>\n",
       "      <td>vijay</td>\n",
       "      <td>33.0</td>\n",
       "      <td>50000.000000</td>\n",
       "    </tr>\n",
       "    <tr>\n",
       "      <th>1</th>\n",
       "      <td>None</td>\n",
       "      <td>34.0</td>\n",
       "      <td>66666.666667</td>\n",
       "    </tr>\n",
       "    <tr>\n",
       "      <th>2</th>\n",
       "      <td>rohit</td>\n",
       "      <td>35.0</td>\n",
       "      <td>70000.000000</td>\n",
       "    </tr>\n",
       "    <tr>\n",
       "      <th>3</th>\n",
       "      <td>arjun</td>\n",
       "      <td>34.0</td>\n",
       "      <td>80000.000000</td>\n",
       "    </tr>\n",
       "  </tbody>\n",
       "</table>\n",
       "</div>"
      ],
      "text/plain": [
       "    name   age        salary\n",
       "0  vijay  33.0  50000.000000\n",
       "1   None  34.0  66666.666667\n",
       "2  rohit  35.0  70000.000000\n",
       "3  arjun  34.0  80000.000000"
      ]
     },
     "execution_count": 198,
     "metadata": {},
     "output_type": "execute_result"
    }
   ],
   "source": [
    "df['salary'].fillna(df['salary'].mean(),inplace=True)\n",
    "df"
   ]
  },
  {
   "cell_type": "code",
   "execution_count": 204,
   "id": "630ab3c4-ef81-4941-ae09-7cce99054c60",
   "metadata": {},
   "outputs": [
    {
     "name": "stdout",
     "output_type": "stream",
     "text": [
      "Before interpolation\n",
      "   time  value\n",
      "0     1   10.0\n",
      "1     2    NaN\n",
      "2     3   30.0\n",
      "3     4    NaN\n",
      "4     5   50.0\n",
      "After interpolation\n",
      "   time  value\n",
      "0     1   10.0\n",
      "1     2   20.0\n",
      "2     3   30.0\n",
      "3     4   40.0\n",
      "4     5   50.0\n"
     ]
    }
   ],
   "source": [
    "#interpolation:\n",
    "#interpolate()\n",
    "#linear, polynomial, time\n",
    "#usecases= time series data,numeric data with trends\n",
    "data={\n",
    "    \"time\":[1,2,3,4,5],\n",
    "    \"value\":[10,None,30,None,50]\n",
    "}\n",
    "df=pd.DataFrame(data)\n",
    "print(\"Before interpolation\")\n",
    "print(df)\n",
    "df[\"value\"]=df[\"value\"].interpolate(method=\"linear\")\n",
    "print(\"After interpolation\")\n",
    "print(df)"
   ]
  },
  {
   "cell_type": "code",
   "execution_count": 29,
   "id": "4db98a58-417e-403b-b2db-bbc0b88e1b38",
   "metadata": {},
   "outputs": [
    {
     "data": {
      "text/html": [
       "<div>\n",
       "<style scoped>\n",
       "    .dataframe tbody tr th:only-of-type {\n",
       "        vertical-align: middle;\n",
       "    }\n",
       "\n",
       "    .dataframe tbody tr th {\n",
       "        vertical-align: top;\n",
       "    }\n",
       "\n",
       "    .dataframe thead th {\n",
       "        text-align: right;\n",
       "    }\n",
       "</style>\n",
       "<table border=\"1\" class=\"dataframe\">\n",
       "  <thead>\n",
       "    <tr style=\"text-align: right;\">\n",
       "      <th></th>\n",
       "      <th>value</th>\n",
       "    </tr>\n",
       "  </thead>\n",
       "  <tbody>\n",
       "    <tr>\n",
       "      <th>2</th>\n",
       "      <td>44</td>\n",
       "    </tr>\n",
       "    <tr>\n",
       "      <th>3</th>\n",
       "      <td>32</td>\n",
       "    </tr>\n",
       "    <tr>\n",
       "      <th>4</th>\n",
       "      <td>13</td>\n",
       "    </tr>\n",
       "    <tr>\n",
       "      <th>0</th>\n",
       "      <td>5</td>\n",
       "    </tr>\n",
       "    <tr>\n",
       "      <th>1</th>\n",
       "      <td>4</td>\n",
       "    </tr>\n",
       "  </tbody>\n",
       "</table>\n",
       "</div>"
      ],
      "text/plain": [
       "   value\n",
       "2     44\n",
       "3     32\n",
       "4     13\n",
       "0      5\n",
       "1      4"
      ]
     },
     "execution_count": 29,
     "metadata": {},
     "output_type": "execute_result"
    }
   ],
   "source": [
    "#sorting data:\n",
    "#df.sort_values(by=[\"column name1\",\"column name2\"],ascending=[True,False],inplace=True)\n",
    "data={\n",
    "    \"value\":[5,4,44,32,13]\n",
    "}\n",
    "df=pd.DataFrame(data)\n",
    "df.sort_values(by=\"value\",ascending=False,inplace=True)\n",
    "df\n"
   ]
  },
  {
   "cell_type": "code",
   "execution_count": 35,
   "id": "2cfedd47-c3eb-49f2-8a47-15628b79c5e0",
   "metadata": {},
   "outputs": [
    {
     "name": "stdout",
     "output_type": "stream",
     "text": [
      "4\n",
      "19.6\n"
     ]
    }
   ],
   "source": [
    "print(df[\"value\"].min())\n",
    "print(df[\"value\"].mean())"
   ]
  },
  {
   "cell_type": "code",
   "execution_count": 41,
   "id": "bdb94325-895d-46d1-ae18-d1b73f521852",
   "metadata": {},
   "outputs": [
    {
     "data": {
      "text/plain": [
       "age\n",
       "28    120000\n",
       "29     78000\n",
       "30    120000\n",
       "32     55000\n",
       "Name: salary, dtype: int64"
      ]
     },
     "execution_count": 41,
     "metadata": {},
     "output_type": "execute_result"
    }
   ],
   "source": [
    "#groupby:\n",
    "data={\n",
    "    \"age\":[28,30,32,28,29,30],\n",
    "    \"salary\":[50000,40000,55000,70000,78000,80000]\n",
    "}\n",
    "df=pd.DataFrame(data)\n",
    "grouped=df.groupby(\"age\")[\"salary\"].sum()\n",
    "grouped"
   ]
  },
  {
   "cell_type": "code",
   "execution_count": 50,
   "id": "55e91912-5ee4-4fd8-8b53-9fbe9f2ae7fe",
   "metadata": {},
   "outputs": [
    {
     "name": "stdout",
     "output_type": "stream",
     "text": [
      "inner join:\n",
      "   customer ID   name  amount\n",
      "0            1  vijay     150\n",
      "1            2  arjun     250\n",
      "outer join:\n",
      "   customer ID   name  amount\n",
      "0            1  vijay   150.0\n",
      "1            2  arjun   250.0\n",
      "2            3  rohit     NaN\n",
      "3            4    NaN   350.0\n",
      "left join:\n",
      "   customer ID   name  amount\n",
      "0            1  vijay   150.0\n",
      "1            2  arjun   250.0\n",
      "2            3  rohit     NaN\n",
      "right join:\n",
      "   customer ID   name  amount\n",
      "0            1  vijay     150\n",
      "1            2  arjun     250\n",
      "2            4    NaN     350\n"
     ]
    }
   ],
   "source": [
    "#merging:\n",
    "#pd.merge(df1,df2,on=\"column name\",how=\"type of join\")\n",
    "#customer dataframe=\n",
    "df1=pd.DataFrame({\n",
    "    \"customer ID\":[1,2,3],\n",
    "    \"name\":['vijay','arjun','rohit']\n",
    "})\n",
    "#order dataframe=\n",
    "df2=pd.DataFrame({\n",
    "    \"customer ID\":[1,2,4],\n",
    "    \"amount\":[150,250,350]\n",
    "})\n",
    "#merge\n",
    "df_merged=pd.merge(df1,df2,on=\"customer ID\",how=\"inner\")\n",
    "print(\"inner join:\")\n",
    "print(df_merged)\n",
    "df_merged=pd.merge(df1,df2,on=\"customer ID\",how=\"outer\")\n",
    "print(\"outer join:\")\n",
    "print(df_merged)\n",
    "df_merged=pd.merge(df1,df2,on=\"customer ID\",how=\"left\")\n",
    "print(\"left join:\")\n",
    "print(df_merged)\n",
    "df_merged=pd.merge(df1,df2,on=\"customer ID\",how=\"right\")\n",
    "print(\"right join:\")\n",
    "print(df_merged)"
   ]
  },
  {
   "cell_type": "code",
   "execution_count": 54,
   "id": "d22a7175-a4a0-472e-b91f-b926fdea8fd3",
   "metadata": {},
   "outputs": [
    {
     "data": {
      "text/html": [
       "<div>\n",
       "<style scoped>\n",
       "    .dataframe tbody tr th:only-of-type {\n",
       "        vertical-align: middle;\n",
       "    }\n",
       "\n",
       "    .dataframe tbody tr th {\n",
       "        vertical-align: top;\n",
       "    }\n",
       "\n",
       "    .dataframe thead th {\n",
       "        text-align: right;\n",
       "    }\n",
       "</style>\n",
       "<table border=\"1\" class=\"dataframe\">\n",
       "  <thead>\n",
       "    <tr style=\"text-align: right;\">\n",
       "      <th></th>\n",
       "      <th>customer ID</th>\n",
       "      <th>name</th>\n",
       "    </tr>\n",
       "  </thead>\n",
       "  <tbody>\n",
       "    <tr>\n",
       "      <th>0</th>\n",
       "      <td>1</td>\n",
       "      <td>vijay</td>\n",
       "    </tr>\n",
       "    <tr>\n",
       "      <th>1</th>\n",
       "      <td>2</td>\n",
       "      <td>arjun</td>\n",
       "    </tr>\n",
       "    <tr>\n",
       "      <th>2</th>\n",
       "      <td>3</td>\n",
       "      <td>rohit</td>\n",
       "    </tr>\n",
       "    <tr>\n",
       "      <th>3</th>\n",
       "      <td>4</td>\n",
       "      <td>mahesh</td>\n",
       "    </tr>\n",
       "    <tr>\n",
       "      <th>4</th>\n",
       "      <td>5</td>\n",
       "      <td>virat</td>\n",
       "    </tr>\n",
       "  </tbody>\n",
       "</table>\n",
       "</div>"
      ],
      "text/plain": [
       "   customer ID    name\n",
       "0            1   vijay\n",
       "1            2   arjun\n",
       "2            3   rohit\n",
       "3            4  mahesh\n",
       "4            5   virat"
      ]
     },
     "execution_count": 54,
     "metadata": {},
     "output_type": "execute_result"
    }
   ],
   "source": [
    "#concatenation:\n",
    "#vertically(row-wise) or horizontally(column-wise)\n",
    "#pd.concat([df1,df2],axis=0,ignore_index=True)\n",
    "df1=pd.DataFrame({\n",
    "    \"customer ID\":[1,2,3],\n",
    "    \"name\":['vijay','arjun','rohit']\n",
    "})\n",
    "df2=pd.DataFrame({\n",
    "    \"customer ID\":[4,5],\n",
    "    \"name\":[\"mahesh\",\"virat\"]\n",
    "})\n",
    "df_concat=pd.concat([df1,df2],axis=0,ignore_index=True)\n",
    "df_concat"
   ]
  },
  {
   "cell_type": "code",
   "execution_count": null,
   "id": "ebe91983-5849-4546-bf8b-0aae924a9b1f",
   "metadata": {},
   "outputs": [],
   "source": []
  }
 ],
 "metadata": {
  "kernelspec": {
   "display_name": "Python 3 (ipykernel)",
   "language": "python",
   "name": "python3"
  },
  "language_info": {
   "codemirror_mode": {
    "name": "ipython",
    "version": 3
   },
   "file_extension": ".py",
   "mimetype": "text/x-python",
   "name": "python",
   "nbconvert_exporter": "python",
   "pygments_lexer": "ipython3",
   "version": "3.12.4"
  }
 },
 "nbformat": 4,
 "nbformat_minor": 5
}
